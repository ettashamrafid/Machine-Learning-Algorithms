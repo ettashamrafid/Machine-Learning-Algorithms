{
 "cells": [
  {
   "cell_type": "code",
   "execution_count": 5,
   "id": "ca78b148-bcd5-4e5a-816a-f114dd51be3c",
   "metadata": {},
   "outputs": [],
   "source": [
    "import numpy as np\n",
    "import tensorflow as tf\n",
    "from tensorflow import keras\n",
    "from tensorflow.keras.models import Sequential\n",
    "from tensorflow.keras.layers import Dense"
   ]
  },
  {
   "cell_type": "code",
   "execution_count": 6,
   "id": "3ac86032-254c-4737-9162-a622af2ddfe1",
   "metadata": {},
   "outputs": [],
   "source": [
    "def scaling(x):\n",
    "    std_dev= np.std(x)\n",
    "    mean=np.mean(x)\n",
    "    z_scored= (x-mean)/std_dev\n",
    "    return z_scored"
   ]
  },
  {
   "cell_type": "code",
   "execution_count": 7,
   "id": "e54b000a-bf04-465b-a16f-60b28f6feebe",
   "metadata": {},
   "outputs": [],
   "source": [
    "#Data\n",
    "W1_tmp = np.array( [[-8.93,  0.29, 12.9 ], [-0.1,  -7.32, 10.81]] )\n",
    "b1_tmp = np.array( [-9.82, -9.28,  0.96] )\n",
    "W2_tmp = np.array( [[-31.18], [-27.59], [-32.56]] )\n",
    "b2_tmp = np.array( [15.41] )"
   ]
  },
  {
   "cell_type": "code",
   "execution_count": 8,
   "id": "6de9d8f7-69c8-4999-b2f1-08d798a05044",
   "metadata": {},
   "outputs": [],
   "source": [
    "X_tst = np.array([\n",
    "    [200,13.9],  # postive example\n",
    "    [200,17],\n",
    "    [220,56.7]])"
   ]
  },
  {
   "cell_type": "code",
   "execution_count": 115,
   "id": "2b0bd393-da40-4307-a7da-9f3e9c7b2d2d",
   "metadata": {},
   "outputs": [],
   "source": [
    "# x=X_tst.T"
   ]
  },
  {
   "cell_type": "code",
   "execution_count": 9,
   "id": "f542d316-9572-4477-8367-f39c4ee51a09",
   "metadata": {},
   "outputs": [],
   "source": [
    "x=scaling(X_tst)"
   ]
  },
  {
   "cell_type": "code",
   "execution_count": 10,
   "id": "2301f1a1-6a2e-4311-a68b-1955d2b30c0b",
   "metadata": {},
   "outputs": [],
   "source": [
    "def sigmoid(x):\n",
    "    z= 1/(1+ np.exp(-x))\n",
    "    return z"
   ]
  },
  {
   "cell_type": "code",
   "execution_count": 16,
   "id": "6b127747-3627-4439-b4ed-ac28805e18e5",
   "metadata": {},
   "outputs": [],
   "source": [
    "def dense(a_in, w, b):\n",
    "    col = w.shape[1]\n",
    "    a_out = np.zeros(col)\n",
    "    for i in range(col):                                                   \n",
    "        z = np.dot(w[:,i], a_in) + b[i]         \n",
    "        a_out[i] = sigmoid(z)\n",
    "        #print(a_out[j])\n",
    "    return a_out\n",
    "    "
   ]
  },
  {
   "cell_type": "code",
   "execution_count": 13,
   "id": "856433df-ce69-405a-8f43-841cbb185afe",
   "metadata": {},
   "outputs": [],
   "source": [
    "def sequence(a_in,w1,b1,w2,b2):\n",
    "    a_1=dense(a_in,w1,b1)\n",
    "    a_2=dense(a_1,w2,b2)\n",
    "    return a_2"
   ]
  },
  {
   "cell_type": "code",
   "execution_count": 14,
   "id": "875966d4-1124-4942-a24a-0835da3270b0",
   "metadata": {},
   "outputs": [],
   "source": [
    "def predict(X, W1, b1, W2, b2):\n",
    "    row = X.shape[0]\n",
    "    #print(m)\n",
    "    p = np.zeros((row, 1))\n",
    "    for i in range(row):\n",
    "        p[i] = sequence(X[i], W1, b1, W2, b2)\n",
    "    return p"
   ]
  },
  {
   "cell_type": "code",
   "execution_count": 17,
   "id": "d0a6c1b2-cc56-4cb3-aa92-639c5218cf4f",
   "metadata": {},
   "outputs": [
    {
     "data": {
      "text/plain": [
       "array([[2.88604757e-06],\n",
       "       [7.49783080e-07],\n",
       "       [2.15971435e-08]])"
      ]
     },
     "execution_count": 17,
     "metadata": {},
     "output_type": "execute_result"
    }
   ],
   "source": [
    "predict(x,W1_tmp,b1_tmp,W2_tmp,b2_tmp)"
   ]
  },
  {
   "cell_type": "code",
   "execution_count": null,
   "id": "3eb3b857-bfd7-4735-bcb2-f17f0fe554b7",
   "metadata": {},
   "outputs": [],
   "source": []
  }
 ],
 "metadata": {
  "kernelspec": {
   "display_name": "Python 3 (ipykernel)",
   "language": "python",
   "name": "python3"
  },
  "language_info": {
   "codemirror_mode": {
    "name": "ipython",
    "version": 3
   },
   "file_extension": ".py",
   "mimetype": "text/x-python",
   "name": "python",
   "nbconvert_exporter": "python",
   "pygments_lexer": "ipython3",
   "version": "3.10.12"
  }
 },
 "nbformat": 4,
 "nbformat_minor": 5
}
