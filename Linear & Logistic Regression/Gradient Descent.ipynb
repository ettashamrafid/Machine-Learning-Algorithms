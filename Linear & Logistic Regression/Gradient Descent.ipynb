{
 "cells": [
  {
   "cell_type": "code",
   "execution_count": 2,
   "id": "a0d6e049",
   "metadata": {},
   "outputs": [],
   "source": [
    "import numpy as np\n",
    "import pandas as pd\n",
    "import matplotlib.pyplot as plt\n",
    "%matplotlib inline\n",
    "import seaborn as sns"
   ]
  },
  {
   "cell_type": "code",
   "execution_count": 13,
   "id": "bd83b134",
   "metadata": {},
   "outputs": [
    {
     "data": {
      "text/plain": [
       "(20, 3)"
      ]
     },
     "execution_count": 13,
     "metadata": {},
     "output_type": "execute_result"
    }
   ],
   "source": [
    "df=pd.read_csv('homeprices_banglore.csv')\n",
    "df.head(5)\n",
    "df.shape"
   ]
  },
  {
   "cell_type": "code",
   "execution_count": 8,
   "id": "35196aa9",
   "metadata": {},
   "outputs": [
    {
     "data": {
      "text/plain": [
       "array([[0.08827586, 0.25      ],\n",
       "       [0.62068966, 0.75      ],\n",
       "       [0.22068966, 0.5       ],\n",
       "       [0.24862069, 0.5       ],\n",
       "       [0.13793103, 0.25      ],\n",
       "       [0.12758621, 0.25      ],\n",
       "       [0.6662069 , 0.75      ],\n",
       "       [0.86206897, 0.75      ],\n",
       "       [0.17586207, 0.5       ],\n",
       "       [1.        , 1.        ],\n",
       "       [0.34482759, 0.5       ],\n",
       "       [0.68448276, 0.75      ],\n",
       "       [0.06896552, 0.25      ],\n",
       "       [0.10344828, 0.25      ],\n",
       "       [0.5       , 0.5       ],\n",
       "       [0.12931034, 0.25      ],\n",
       "       [0.13103448, 0.5       ],\n",
       "       [0.25517241, 0.5       ],\n",
       "       [0.67931034, 0.5       ],\n",
       "       [0.        , 0.        ]])"
      ]
     },
     "execution_count": 8,
     "metadata": {},
     "output_type": "execute_result"
    }
   ],
   "source": [
    "from sklearn import preprocessing\n",
    "\n",
    "sx=preprocessing.MinMaxScaler()\n",
    "sy=preprocessing.MinMaxScaler()\n",
    "\n",
    "scaled_x=sx.fit_transform(df.drop('price',axis='columns'))\n",
    "scaled_x"
   ]
  },
  {
   "cell_type": "code",
   "execution_count": 15,
   "id": "bd024173",
   "metadata": {},
   "outputs": [
    {
     "data": {
      "text/plain": [
       "20"
      ]
     },
     "execution_count": 15,
     "metadata": {},
     "output_type": "execute_result"
    }
   ],
   "source": [
    "df.shape[0]"
   ]
  },
  {
   "cell_type": "code",
   "execution_count": 37,
   "id": "c32679f3",
   "metadata": {},
   "outputs": [
    {
     "data": {
      "text/plain": [
       "(20, 1)"
      ]
     },
     "execution_count": 37,
     "metadata": {},
     "output_type": "execute_result"
    }
   ],
   "source": [
    "scaled_y=sy.fit_transform(df['price'].values.reshape(df.shape[0],1))\n",
    "scaled_y.shape"
   ]
  },
  {
   "cell_type": "markdown",
   "id": "2fe608c6",
   "metadata": {},
   "source": [
    "## Batch Gradient Descent"
   ]
  },
  {
   "cell_type": "code",
   "execution_count": 21,
   "id": "f6ad2aaa",
   "metadata": {},
   "outputs": [],
   "source": [
    "def batch_gd(X,y_true,epochs,learning_rate=0.01):\n",
    "    features=X.shape[1]\n",
    "    w=np.ones(shape=(features))\n",
    "    b=0\n",
    "    total_samples=X.shape[0]\n",
    "    \n",
    "    cost_lst=[]\n",
    "    epoch_lst=[]\n",
    "    for i in range(epochs):\n",
    "        y_predicted= np.dot(w,X.T) +b\n",
    "        \n",
    "        w_grad= -(2/total_samples)* np.dot(X.T,y_true-y_predicted)\n",
    "        b_grad= -(2/total_samples)* np.sum(y_true-y_predicted)\n",
    "        \n",
    "        w=w - learning_rate*w_grad\n",
    "        b=b - learning_rate*b_grad\n",
    "        \n",
    "        cost= np.mean(np.square(y_true-y_predicted))\n",
    "        \n",
    "        if i%10==0:\n",
    "            cost_lst.append(cost)\n",
    "            epoch_lst.append(i)\n",
    "            \n",
    "    return w,b,cost,cost_lst,epoch_lst"
   ]
  },
  {
   "cell_type": "code",
   "execution_count": 39,
   "id": "d70a5075",
   "metadata": {},
   "outputs": [
    {
     "data": {
      "text/plain": [
       "(array([0.70712464, 0.67456527]), -0.23034857438407422, 0.0068641890429808105)"
      ]
     },
     "execution_count": 39,
     "metadata": {},
     "output_type": "execute_result"
    }
   ],
   "source": [
    "w,b,cost,cost_lst,epoch_lst=batch_gd(scaled_x,scaled_y.reshape(scaled_y.shape[0],),500)\n",
    "w,b,cost"
   ]
  },
  {
   "cell_type": "code",
   "execution_count": 40,
   "id": "f2362f28",
   "metadata": {},
   "outputs": [
    {
     "data": {
      "text/plain": [
       "[<matplotlib.lines.Line2D at 0x7f91dd3d5950>]"
      ]
     },
     "execution_count": 40,
     "metadata": {},
     "output_type": "execute_result"
    },
    {
     "data": {
      "image/png": "[encoded data removed]",
      "text/plain": [
       "<Figure size 640x480 with 1 Axes>"
      ]
     },
     "metadata": {},
     "output_type": "display_data"
    }
   ],
   "source": [
    "plt.xlabel('epoch')\n",
    "plt.ylabel('cost')\n",
    "plt.plot(epoch_lst,cost_lst)"
   ]
  },
  {
   "cell_type": "code",
   "execution_count": 55,
   "id": "a62a5737",
   "metadata": {},
   "outputs": [],
   "source": [
    "def predict(area,bedroom,w,b):\n",
    "    scaled_x=sx.transform([[area,bedroom]])[0]\n",
    "    scaled_price= w[0]*scaled_x[0]+ w[1]*scaled_x[1] + b\n",
    "    return sy.inverse_transform([[scaled_price]])\n",
    "    "
   ]
  },
  {
   "cell_type": "code",
   "execution_count": 56,
   "id": "bc7063d4",
   "metadata": {},
   "outputs": [
    {
     "name": "stderr",
     "output_type": "stream",
     "text": [
      "/home/ettexham/.local/lib/python3.11/site-packages/sklearn/base.py:465: UserWarning: X does not have valid feature names, but MinMaxScaler was fitted with feature names\n",
      "  warnings.warn(\n"
     ]
    },
    {
     "data": {
      "text/plain": [
       "array([[128.45484403]])"
      ]
     },
     "execution_count": 56,
     "metadata": {},
     "output_type": "execute_result"
    }
   ],
   "source": [
    "predict(2600,4,w,b)"
   ]
  },
  {
   "cell_type": "markdown",
   "id": "48187cc6",
   "metadata": {},
   "source": [
    "## Stochastic Gradient Descent"
   ]
  },
  {
   "cell_type": "code",
   "execution_count": 61,
   "id": "02218321",
   "metadata": {},
   "outputs": [],
   "source": [
    "import random"
   ]
  },
  {
   "cell_type": "code",
   "execution_count": 70,
   "id": "8020196f",
   "metadata": {},
   "outputs": [],
   "source": [
    "def sgd(X,y_true,epochs,learning_rate=0.01):\n",
    "    features=X.shape[1]\n",
    "    w=np.ones(shape=(features))\n",
    "    b=0\n",
    "    total_samples=X.shape[0]\n",
    "    \n",
    "    cost_lst=[]\n",
    "    epoch_lst=[]\n",
    "    for i in range(epochs):\n",
    "        random_index=random.randint(0,total_samples-1)\n",
    "        sample_x=X[random_index]\n",
    "        sample_y=y_true[random_index]\n",
    "        y_predicted= np.dot(w,sample_x.T) +b\n",
    "        \n",
    "        w_grad= -(2/total_samples)* np.dot(sample_x.T,(sample_y-y_predicted))\n",
    "        b_grad= -(2/total_samples)* (sample_y-y_predicted)\n",
    "        \n",
    "        w=w - learning_rate*w_grad\n",
    "        b=b - learning_rate*b_grad\n",
    "        \n",
    "        cost= (np.square(sample_y-y_predicted))\n",
    "        \n",
    "        if i%100==0:\n",
    "            cost_lst.append(cost)\n",
    "            epoch_lst.append(i)\n",
    "            \n",
    "    return w,b,cost,cost_lst,epoch_lst"
   ]
  },
  {
   "cell_type": "code",
   "execution_count": 72,
   "id": "e6e7f818",
   "metadata": {},
   "outputs": [
    {
     "data": {
      "text/plain": [
       "(array([0.70486838, 0.671276  ]), -0.22607703619375516, 0.05121320148391884)"
      ]
     },
     "execution_count": 72,
     "metadata": {},
     "output_type": "execute_result"
    }
   ],
   "source": [
    "w_sgd,b_sgd,cost_sgd,cost_lst_sgd,epoch_lst_sgd=sgd(scaled_x,scaled_y.reshape(scaled_y.shape[0],),10000)\n",
    "w_sgd,b_sgd,cost_sgd"
   ]
  },
  {
   "cell_type": "code",
   "execution_count": 73,
   "id": "a5c8e875",
   "metadata": {},
   "outputs": [
    {
     "data": {
      "text/plain": [
       "[<matplotlib.lines.Line2D at 0x7f91dd07ab10>]"
      ]
     },
     "execution_count": 73,
     "metadata": {},
     "output_type": "execute_result"
    },
    {
     "data": {
      "image/png": "[encoded data removed]",
      "text/plain": [
       "<Figure size 640x480 with 1 Axes>"
      ]
     },
     "metadata": {},
     "output_type": "display_data"
    }
   ],
   "source": [
    "plt.xlabel('epoch')\n",
    "plt.ylabel('cost')\n",
    "plt.plot(epoch_lst_sgd,cost_lst_sgd)"
   ]
  },
  {
   "cell_type": "markdown",
   "id": "d64322c1",
   "metadata": {},
   "source": [
    "## Mini Batch Gradient Descent"
   ]
  },
  {
   "cell_type": "code",
   "execution_count": 75,
   "id": "38bfc0ca",
   "metadata": {},
   "outputs": [],
   "source": [
    "import random"
   ]
  },
  {
   "cell_type": "code",
   "execution_count": 79,
   "id": "f44e71e6",
   "metadata": {},
   "outputs": [],
   "source": [
    "def mini_batch_gd(X,y_true,epochs,learning_rate=0.01,batch=10):\n",
    "    features=X.shape[1]\n",
    "    w=np.ones(shape=(features))\n",
    "    b=0\n",
    "    total_samples=X.shape[0]\n",
    "    cost_lst=[]\n",
    "    epoch_lst=[]\n",
    "    for i in range(epochs):\n",
    "        random_index=random.randint(0,total_samples-batch-1)\n",
    "        batch_x=X[random_index:random_index+batch]\n",
    "        batch_y=y_true[random_index:random_index+batch]\n",
    "        y_predicted= np.dot(w,batch_x.T) +b\n",
    "        \n",
    "        w_grad= -(2/batch)* np.dot(batch_x.T,batch_y-y_predicted)\n",
    "        b_grad= -(2/batch)* np.sum(batch_y-y_predicted)\n",
    "        \n",
    "        w=w - learning_rate*w_grad\n",
    "        b=b - learning_rate*b_grad\n",
    "        \n",
    "        cost= np.mean(np.square(batch_y-y_predicted))\n",
    "        \n",
    "        if i%10==0:\n",
    "            cost_lst.append(cost)\n",
    "            epoch_lst.append(i)\n",
    "            \n",
    "    return w,b,cost,cost_lst,epoch_lst"
   ]
  },
  {
   "cell_type": "code",
   "execution_count": 80,
   "id": "57178844",
   "metadata": {},
   "outputs": [
    {
     "data": {
      "text/plain": [
       "(array([0.67009165, 0.63776686]), -0.20071887059545535, 0.003998694621453449)"
      ]
     },
     "execution_count": 80,
     "metadata": {},
     "output_type": "execute_result"
    }
   ],
   "source": [
    "w_mini,b_mini,cost_mini,cost_lst_mini,epoch_lst_mini=mini_batch_gd(scaled_x,scaled_y.reshape(scaled_y.shape[0],),1000)\n",
    "w_mini, b_mini,cost_mini"
   ]
  },
  {
   "cell_type": "code",
   "execution_count": 81,
   "id": "b647e16b",
   "metadata": {},
   "outputs": [
    {
     "data": {
      "text/plain": [
       "[<matplotlib.lines.Line2D at 0x7f91dd352f50>]"
      ]
     },
     "execution_count": 81,
     "metadata": {},
     "output_type": "execute_result"
    },
    {
     "data": {
      "image/png": "[encoded data removed]",
      "text/plain": [
       "<Figure size 640x480 with 1 Axes>"
      ]
     },
     "metadata": {},
     "output_type": "display_data"
    }
   ],
   "source": [
    "plt.xlabel('epoch')\n",
    "plt.ylabel('cost')\n",
    "plt.plot(epoch_lst_mini,cost_lst_mini)"
   ]
  },
  {
   "cell_type": "code",
   "execution_count": null,
   "id": "cc9c4bb0",
   "metadata": {},
   "outputs": [],
   "source": []
  }
 ],
 "metadata": {
  "kernelspec": {
   "display_name": "Python 3 (ipykernel)",
   "language": "python",
   "name": "python3"
  },
  "language_info": {
   "codemirror_mode": {
    "name": "ipython",
    "version": 3
   },
   "file_extension": ".py",
   "mimetype": "text/x-python",
   "name": "python",
   "nbconvert_exporter": "python",
   "pygments_lexer": "ipython3",
   "version": "3.11.6"
  }
 },
 "nbformat": 4,
 "nbformat_minor": 5
}
