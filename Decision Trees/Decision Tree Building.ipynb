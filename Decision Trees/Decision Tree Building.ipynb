{
 "cells": [
  {
   "cell_type": "code",
   "execution_count": 1,
   "id": "ce08185d",
   "metadata": {},
   "outputs": [],
   "source": [
    "import numpy as np \n",
    "import pandas as pd \n",
    "import matplotlib.pyplot as plt"
   ]
  },
  {
   "cell_type": "code",
   "execution_count": 2,
   "id": "281c3a14",
   "metadata": {},
   "outputs": [],
   "source": [
    "x_train=np.array([\n",
    "    [1,1,1],\n",
    "    [0,0,1],\n",
    "    [0,1,0],\n",
    "    [1,0,1],\n",
    "    [1,1,1],\n",
    "    [1,1,0],\n",
    "    [0,0,0],\n",
    "    [1,1,0],\n",
    "    [0,1,0],\n",
    "    [0,1,0]\n",
    "])"
   ]
  },
  {
   "cell_type": "code",
   "execution_count": 3,
   "id": "bb0841b2",
   "metadata": {},
   "outputs": [],
   "source": [
    "y_train=np.array([1,1,0,0,1,1,0,1,0,0])"
   ]
  },
  {
   "cell_type": "code",
   "execution_count": 4,
   "id": "5540c9c6",
   "metadata": {},
   "outputs": [],
   "source": [
    "def entropy(p):\n",
    "    if p==0 or p==1:\n",
    "        return 0\n",
    "    else:\n",
    "        return -p*np.log2(p) - (1-p)*np.log2(1-p)"
   ]
  },
  {
   "cell_type": "code",
   "execution_count": 5,
   "id": "a12746fd",
   "metadata": {},
   "outputs": [],
   "source": [
    "def split_index(x,train_feature):\n",
    "    left=[]\n",
    "    right=[]\n",
    "    for i,j in enumerate(x):\n",
    "        if j[train_feature]==1:\n",
    "            left.append(i)\n",
    "        else:\n",
    "            right.append(i)\n",
    "            \n",
    "    return left,right"
   ]
  },
  {
   "cell_type": "code",
   "execution_count": 7,
   "id": "136952ab",
   "metadata": {},
   "outputs": [
    {
     "data": {
      "text/plain": [
       "([0, 2, 4, 5, 7, 8, 9], [1, 3, 6])"
      ]
     },
     "execution_count": 7,
     "metadata": {},
     "output_type": "execute_result"
    }
   ],
   "source": [
    "split_index(x_train,1)"
   ]
  },
  {
   "cell_type": "code",
   "execution_count": 8,
   "id": "64f1bced",
   "metadata": {},
   "outputs": [],
   "source": [
    "def weighted_entropy(x,y,left,right):\n",
    "    w_left= len(left)/len(x)\n",
    "    w_right=len(right)/len(x)\n",
    "    p_left= sum(y[left])/len(left)\n",
    "    p_right=sum(y[right])/len(right)\n",
    "    \n",
    "    w_entropy = w_left*entropy(p_left) + w_right*entropy(p_right)\n",
    "    return w_entropy"
   ]
  },
  {
   "cell_type": "code",
   "execution_count": 9,
   "id": "b4c684ff",
   "metadata": {},
   "outputs": [],
   "source": [
    "def info_gain(x,y,left,right):\n",
    "    p_node=sum(y)/len(y)\n",
    "    p_entropy=entropy(p_node)\n",
    "    w_entropy=weighted_entropy(x,y,left,right)\n",
    "    return p_entropy - w_entropy"
   ]
  },
  {
   "cell_type": "code",
   "execution_count": 11,
   "id": "cf1ba62e",
   "metadata": {},
   "outputs": [
    {
     "data": {
      "text/plain": [
       "0.2780719051126377"
      ]
     },
     "execution_count": 11,
     "metadata": {},
     "output_type": "execute_result"
    }
   ],
   "source": [
    "left,right=split_index(x_train,0)\n",
    "info_gain(x_train,y_train,left,right)"
   ]
  },
  {
   "cell_type": "markdown",
   "id": "22053401",
   "metadata": {},
   "source": [
    "## For all features"
   ]
  },
  {
   "cell_type": "code",
   "execution_count": 18,
   "id": "6ac7d0b5",
   "metadata": {},
   "outputs": [
    {
     "name": "stdout",
     "output_type": "stream",
     "text": [
      "0:  0.28\n",
      "1:  0.03\n",
      "2:  0.12\n"
     ]
    }
   ],
   "source": [
    "for i,j in enumerate(['Ear Shape','Face Shape', 'Whiskers']):\n",
    "    left,right=split_index(x_train,i)\n",
    "    print(f\"{i}: {info_gain(x_train,y_train,left,right): .2f}\")"
   ]
  }
 ],
 "metadata": {
  "kernelspec": {
   "display_name": "Python 3 (ipykernel)",
   "language": "python",
   "name": "python3"
  },
  "language_info": {
   "codemirror_mode": {
    "name": "ipython",
    "version": 3
   },
   "file_extension": ".py",
   "mimetype": "text/x-python",
   "name": "python",
   "nbconvert_exporter": "python",
   "pygments_lexer": "ipython3",
   "version": "3.11.6"
  }
 },
 "nbformat": 4,
 "nbformat_minor": 5
}
